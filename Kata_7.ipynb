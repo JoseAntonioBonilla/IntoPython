{
 "cells": [
  {
   "cell_type": "markdown",
   "metadata": {},
   "source": [
    "Ejercicio 1: Uso de ciclos while en Python"
   ]
  },
  {
   "cell_type": "code",
   "execution_count": 3,
   "metadata": {},
   "outputs": [],
   "source": [
    "# Declaramos 2 variables\n",
    "\n",
    "nuevo_planeta = ''\n",
    "planetas = []\n",
    "\n",
    "# Escribe el ciclo while solicitado\n",
    "\n",
    "while nuevo_planeta.lower() != 'done':\n",
    "    if nuevo_planeta:\n",
    "        planetas.append(nuevo_planeta)\n",
    "    nuevo_planeta = input('Enter a new planet ')\n",
    "\n"
   ]
  },
  {
   "cell_type": "markdown",
   "metadata": {},
   "source": [
    "Ejercicio 2: Creación de un ciclo \"for\""
   ]
  },
  {
   "cell_type": "code",
   "execution_count": 4,
   "metadata": {},
   "outputs": [
    {
     "name": "stdout",
     "output_type": "stream",
     "text": [
      "mercurio\n",
      "tierra\n"
     ]
    }
   ],
   "source": [
    "\n",
    "\n",
    "# Escribe tu ciclo for para iterar en una lista de planetas\n",
    "\n",
    "for planeta in planetas:\n",
    "    print(planeta)\n",
    "\n"
   ]
  }
 ],
 "metadata": {
  "interpreter": {
   "hash": "b9b5a9b52f01900fd83e9adc18a1442a62c5a12b32a51ed8eacec83fc68dfac1"
  },
  "kernelspec": {
   "display_name": "Python 3.9.5 ('base')",
   "language": "python",
   "name": "python3"
  },
  "language_info": {
   "codemirror_mode": {
    "name": "ipython",
    "version": 3
   },
   "file_extension": ".py",
   "mimetype": "text/x-python",
   "name": "python",
   "nbconvert_exporter": "python",
   "pygments_lexer": "ipython3",
   "version": "3.9.5"
  },
  "orig_nbformat": 4
 },
 "nbformat": 4,
 "nbformat_minor": 2
}
